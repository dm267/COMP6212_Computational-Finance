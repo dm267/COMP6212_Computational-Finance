{
 "cells": [
  {
   "cell_type": "code",
   "execution_count": 1,
   "id": "050f63b4",
   "metadata": {},
   "outputs": [],
   "source": [
    "#Need year when last bitcoin will be mined\n",
    "#When will 98% of bitcoins be mined\n",
    "\n",
    "#'We know there is 21m Bitcoins'\n",
    "#'Block reward halves every 210k blocks'\n",
    "#'block mined every 10mins'\n",
    "#'initial block reward = 50BTC'\n",
    "\n",
    "#(Issue block reward + 10mins) every block until block halving period\n",
    "#half block reward\n",
    "#repeat until x = 98% of 21000000"
   ]
  },
  {
   "cell_type": "code",
   "execution_count": 6,
   "id": "391a15b9",
   "metadata": {},
   "outputs": [],
   "source": [
    "max_supply = 21000000 #bitcoins\n",
    "time_per_block = 10 #minutes\n",
    "halving_multiplier = 0.5\n",
    "block_reward = 50 #bitcoins\n",
    "halving_time = 210000 #blocks\n",
    "blocks_mined = 0\n",
    "btc_mined = 0\n",
    "time = 0"
   ]
  },
  {
   "cell_type": "code",
   "execution_count": null,
   "id": "302b4f32",
   "metadata": {},
   "outputs": [],
   "source": [
    "def counter(time, btc_mined):\n",
    "    time = time + 10\n",
    "    btc_mined = btc_mined + 1\n"
   ]
  },
  {
   "cell_type": "code",
   "execution_count": null,
   "id": "dee31602",
   "metadata": {},
   "outputs": [],
   "source": [
    "def how_many_blocks(percent_mined):\n",
    "    percentage = percent_mined/100\n",
    "    block_we_are_looking_for = percentage*max_supply\n",
    "\n",
    "    block_number = 0\n",
    "\n",
    "    while (block_number <= block_we_are_looking_for):\n",
    "        block_number = block_number+1\n",
    "        "
   ]
  },
  {
   "cell_type": "code",
   "execution_count": 21,
   "id": "2f9590e9",
   "metadata": {},
   "outputs": [],
   "source": [
    "def time_to_mine_x(percent_mined):\n",
    "    btc_mined = 0\n",
    "    blocks_mined = 0\n",
    "    block_reward = 50 #bitcoins\n",
    "    time = 0\n",
    "    \n",
    "    percentage = percent_mined/100\n",
    "    block_we_are_looking_for = percentage*max_supply\n",
    "\n",
    "    while (btc_mined <= ((percent_mined/100)*max_supply)):\n",
    "\n",
    "        if (blocks_mined <= halving_time):\n",
    "            blocks_mined = blocks_mined + 1\n",
    "            btc_mined = btc_mined + block_reward\n",
    "            time = time + 10\n",
    "            #print(block_reward)\n",
    "            #print(blocks_mined)\n",
    "            #print(btc_mined)\n",
    "            #print(time)\n",
    "        else:\n",
    "            print('2')\n",
    "            block_reward = block_reward * halving_multiplier\n",
    "            blocks_mined = 0\n",
    "    print(time)\n",
    "    "
   ]
  },
  {
   "cell_type": "code",
   "execution_count": 87,
   "id": "5af12db6",
   "metadata": {},
   "outputs": [],
   "source": [
    "def time_to_mine_x(percent_mined):\n",
    "    btc_mined          = 0\n",
    "    blocks_mined       = 0\n",
    "    block_reward       = 50 #bitcoins\n",
    "    time               = 0\n",
    "    halving_multiplier = 0.5\n",
    "    halving_periods    = 0\n",
    "    \n",
    "    btc_we_are_looking_for = int(((percent_mined/100)*max_supply))\n",
    "    print(\"Target BTC Mined = \", btc_we_are_looking_for)\n",
    "    print(\"_________________________\")\n",
    "    \n",
    "    while (btc_mined <= btc_we_are_looking_for):\n",
    "        for x in range(0,210000,1):   \n",
    "            btc_mined    = btc_mined + block_reward\n",
    "            time         = time + 10\n",
    "            blocks_mined = blocks_mined + 1\n",
    "            \n",
    "        block_reward    = block_reward * halving_multiplier\n",
    "        halving_periods = halving_periods + 1 \n",
    "        \n",
    "    print(\"BTC Mined: \",                btc_mined)\n",
    "    print(\"BTC Mined Target: \",         btc_we_are_looking_for)\n",
    "    print(\"Blocks Mined: \",             blocks_mined)\n",
    "    print(\"Current Block Reward: \",     block_reward)\n",
    "    print(\"Time Taken: \",               time)\n",
    "    print(\"Halving Periods Required: \", halving_periods)\n",
    "    \n",
    "    #for x in range(0,btc_we_are_looking_for,):\n",
    "    #if (btc_mined < btc_we_are_looking_for)    \n",
    "    #    for x in range(0,210000,1):       \n",
    "    #        print(x)\n"
   ]
  },
  {
   "cell_type": "code",
   "execution_count": null,
   "id": "00ca9810",
   "metadata": {},
   "outputs": [],
   "source": [
    "def time_to_mine_x(percent_mined):\n",
    "    btc_mined          = 0\n",
    "    blocks_mined       = 0\n",
    "    block_reward       = 50 #bitcoins\n",
    "    time               = 0\n",
    "    halving_multiplier = 0.5\n",
    "    halving_periods    = 0\n",
    "    \n",
    "    btc_we_are_looking_for = int(((percent_mined/100)*max_supply))\n",
    "    print(\"Target BTC Mined = \", btc_we_are_looking_for)\n",
    "    print(\"_________________________\")\n",
    "    \n",
    "    while (btc_mined <= btc_we_are_looking_for):\n",
    "        for x in range(0,210000,1):   \n",
    "            btc_mined    = btc_mined + block_reward\n",
    "            time         = time + 10\n",
    "            blocks_mined = blocks_mined + 1\n",
    "            \n",
    "            \n",
    "            \n",
    "            \n",
    "            \n",
    "        block_reward    = block_reward * halving_multiplier\n",
    "        halving_periods = halving_periods + 1 \n",
    "        \n",
    "    print(\"BTC Mined: \",                btc_mined)\n",
    "    print(\"BTC Mined Target: \",         btc_we_are_looking_for)\n",
    "    print(\"Blocks Mined: \",             blocks_mined)\n",
    "    print(\"Current Block Reward: \",     block_reward)\n",
    "    print(\"Time Taken: \",               time)\n",
    "    print(\"Halving Periods Required: \", halving_periods)\n",
    "    \n",
    "    #for x in range(0,btc_we_are_looking_for,):\n",
    "    #if (btc_mined < btc_we_are_looking_for)    \n",
    "    #    for x in range(0,210000,1):       \n",
    "    #        print(x)\n",
    "\n",
    "\n",
    "if (btc_mined == btc_we_are_looking_for):\n",
    "                print(\"Breaking Loop\")\n",
    "                break\n",
    "            #print(btc_mined) "
   ]
  },
  {
   "cell_type": "code",
   "execution_count": 88,
   "id": "c0398a34",
   "metadata": {},
   "outputs": [
    {
     "name": "stdout",
     "output_type": "stream",
     "text": [
      "Target BTC Mined =  20580000\n",
      "_________________________\n",
      "BTC Mined:  20671875.0\n",
      "BTC Mined Target:  20580000\n",
      "Blocks Mined:  1260000\n",
      "Current Block Reward:  0.78125\n",
      "Time Taken:  12600000\n",
      "Halving Periods Required:  6\n"
     ]
    }
   ],
   "source": [
    "time_to_mine_x(98)"
   ]
  },
  {
   "cell_type": "code",
   "execution_count": null,
   "id": "82ea8cf6",
   "metadata": {},
   "outputs": [],
   "source": []
  }
 ],
 "metadata": {
  "kernelspec": {
   "display_name": "Python 3 (ipykernel)",
   "language": "python",
   "name": "python3"
  },
  "language_info": {
   "codemirror_mode": {
    "name": "ipython",
    "version": 3
   },
   "file_extension": ".py",
   "mimetype": "text/x-python",
   "name": "python",
   "nbconvert_exporter": "python",
   "pygments_lexer": "ipython3",
   "version": "3.8.5"
  }
 },
 "nbformat": 4,
 "nbformat_minor": 5
}
